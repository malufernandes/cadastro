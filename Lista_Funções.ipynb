{
  "nbformat": 4,
  "nbformat_minor": 0,
  "metadata": {
    "colab": {
      "name": "Lista-Funções.ipynb",
      "provenance": [],
      "collapsed_sections": [],
      "authorship_tag": "ABX9TyOajZxDp2UsRaHzoCVzGNJC",
      "include_colab_link": true
    },
    "kernelspec": {
      "name": "python3",
      "display_name": "Python 3"
    },
    "language_info": {
      "name": "python"
    }
  },
  "cells": [
    {
      "cell_type": "markdown",
      "metadata": {
        "id": "view-in-github",
        "colab_type": "text"
      },
      "source": [
        "<a href=\"https://colab.research.google.com/github/malufernandes/cadastro/blob/main/Lista_Fun%C3%A7%C3%B5es.ipynb\" target=\"_parent\"><img src=\"https://colab.research.google.com/assets/colab-badge.svg\" alt=\"Open In Colab\"/></a>"
      ]
    },
    {
      "cell_type": "markdown",
      "metadata": {
        "id": "44tdGlrAJwer"
      },
      "source": [
        "***PARTE 1***"
      ]
    },
    {
      "cell_type": "markdown",
      "metadata": {
        "id": "NXRg3_E0Zd8C"
      },
      "source": [
        "1. Descreva como funciona a função **range** em python."
      ]
    },
    {
      "cell_type": "markdown",
      "metadata": {
        "id": "EAAk-OT8ZlEY"
      },
      "source": [
        "*Resposta:* A função **range( )** retorna uma série numérica com o intervalo de tempo colocado nos parâmetros da mesma."
      ]
    },
    {
      "cell_type": "markdown",
      "metadata": {
        "id": "845AFSnIZy-a"
      },
      "source": [
        "2. Utilizando a função range em python, escreva um programa que gere e imprima um\n",
        "“range” com valores indo de 12 até 45."
      ]
    },
    {
      "cell_type": "code",
      "metadata": {
        "colab": {
          "base_uri": "https://localhost:8080/"
        },
        "id": "Iqk9HqjlZ4YJ",
        "outputId": "2d0df7fe-f413-4eef-c6b7-7e5ca3167151"
      },
      "source": [
        "list(range(12,45,3))"
      ],
      "execution_count": null,
      "outputs": [
        {
          "output_type": "execute_result",
          "data": {
            "text/plain": [
              "[12, 15, 18, 21, 24, 27, 30, 33, 36, 39, 42]"
            ]
          },
          "metadata": {},
          "execution_count": 2
        }
      ]
    },
    {
      "cell_type": "markdown",
      "metadata": {
        "id": "BdH0d3rZaZlG"
      },
      "source": [
        "3. Escreva um programa que gere e imprima um “range” com os números pares indo de\n",
        "13 até 45."
      ]
    },
    {
      "cell_type": "code",
      "metadata": {
        "colab": {
          "base_uri": "https://localhost:8080/"
        },
        "id": "X5dFT4DbaiEj",
        "outputId": "1786e988-0af2-4329-a4e6-db6037e5cabe"
      },
      "source": [
        "list(range(13+1,45,2))"
      ],
      "execution_count": null,
      "outputs": [
        {
          "output_type": "execute_result",
          "data": {
            "text/plain": [
              "[14, 16, 18, 20, 22, 24, 26, 28, 30, 32, 34, 36, 38, 40, 42, 44]"
            ]
          },
          "metadata": {},
          "execution_count": 10
        }
      ]
    },
    {
      "cell_type": "markdown",
      "metadata": {
        "id": "jNiy9aC7ba6M"
      },
      "source": [
        "4. Descreva como funciona o comando de repetição,for, em python."
      ]
    },
    {
      "cell_type": "markdown",
      "metadata": {
        "id": "Ln-kPaLbcsVq"
      },
      "source": [
        "*Resposta:* A função **for** é usada para repetir algo de acordo com que o usuário pede e informa."
      ]
    },
    {
      "cell_type": "markdown",
      "metadata": {
        "id": "k6oLMdp6c0ey"
      },
      "source": [
        "5. Descreva o que acontecerá neste trecho de código."
      ]
    },
    {
      "cell_type": "markdown",
      "metadata": {
        "id": "Br7poClkdpBp"
      },
      "source": [
        "*Resposta:* Como o *cont* é lido por último junto com a soma *cont+1*, terá uma lista com cinco números *1*, justamente por *cont=0* estar dentro do for, o código sempre lerá assim até completar os 5 números digitados, tornando eles todos iguais, sendo também referente a quantidade de números do *mylist* que são 5."
      ]
    },
    {
      "cell_type": "markdown",
      "metadata": {
        "id": "pWoHOrLRg9Sb"
      },
      "source": [
        "6. Descreva o que acontecerá neste trecho de código."
      ]
    },
    {
      "cell_type": "markdown",
      "metadata": {
        "id": "vK--GweAhBGl"
      },
      "source": [
        "*Resposta:* O código lê o número do ***cont*** na repetição, mas agora com o ***cont=0*** fora do ***for*** a sequência numérica fica colocada em *ordem crescente*, do 1 ao 5, tendo um ***print*** da lista no final, colocando os números em ordem."
      ]
    },
    {
      "cell_type": "markdown",
      "metadata": {
        "id": "UOerUTZ7RK6C"
      },
      "source": [
        "7. Com auxílio do for e da função append em python, adicione elementos numa lista."
      ]
    },
    {
      "cell_type": "code",
      "metadata": {
        "colab": {
          "base_uri": "https://localhost:8080/"
        },
        "id": "SDfC8u2cRRAB",
        "outputId": "402c040f-1b14-430e-a35b-66d8721816da"
      },
      "source": [
        "materiais=[\"caderno\",\"estojo\",\"lapiseira\"]\n",
        "\n",
        "materiais.append(\"mochila\")\n",
        "print(materiais)"
      ],
      "execution_count": 15,
      "outputs": [
        {
          "output_type": "stream",
          "name": "stdout",
          "text": [
            "['caderno', 'estojo', 'lapiseira', 'mochila']\n"
          ]
        }
      ]
    },
    {
      "cell_type": "markdown",
      "metadata": {
        "id": "zFXujRSgeWCz"
      },
      "source": [
        "8. Com auxílio da função pop em python, remova um elemento no final da lista."
      ]
    },
    {
      "cell_type": "code",
      "metadata": {
        "colab": {
          "base_uri": "https://localhost:8080/"
        },
        "id": "wHtFPcb7ea2L",
        "outputId": "e361df16-2d29-4798-95c6-7a79df9444d1"
      },
      "source": [
        "M = [1,3,5,10]\n",
        "\n",
        "M.pop()\n",
        "\n",
        "print(M)"
      ],
      "execution_count": 17,
      "outputs": [
        {
          "output_type": "stream",
          "name": "stdout",
          "text": [
            "[1, 3, 5]\n"
          ]
        }
      ]
    },
    {
      "cell_type": "markdown",
      "metadata": {
        "id": "4XdxoGSrkDyw"
      },
      "source": [
        "9. Com auxílio da função pop em python, remova um elemento no início da lista."
      ]
    },
    {
      "cell_type": "code",
      "metadata": {
        "colab": {
          "base_uri": "https://localhost:8080/"
        },
        "id": "gi2DbUz5kHn0",
        "outputId": "6c0bd437-0dae-491d-f987-8ff06e428ed9"
      },
      "source": [
        "M =[1,3,5]\n",
        "\n",
        "M.pop(0)\n",
        "\n",
        "print(M)"
      ],
      "execution_count": 18,
      "outputs": [
        {
          "output_type": "stream",
          "name": "stdout",
          "text": [
            "[3, 5]\n"
          ]
        }
      ]
    },
    {
      "cell_type": "markdown",
      "metadata": {
        "id": "UprdCHt6kQen"
      },
      "source": [
        "**PARTE 2**\n",
        "\n",
        "*Funções*"
      ]
    },
    {
      "cell_type": "markdown",
      "metadata": {
        "id": "hgwYrs6Ml2Xd"
      },
      "source": [
        "1. Utilize o conceito de funções para criar um algoritmo que informe a quantidade total\n",
        "de calorias de uma refeição a partir do usuário que deverá informar o prato, a\n",
        "sobremesa e a bebida."
      ]
    },
    {
      "cell_type": "code",
      "metadata": {
        "colab": {
          "base_uri": "https://localhost:8080/"
        },
        "id": "0UlxBPmzlBUR",
        "outputId": "79e83586-f447-4ae1-ea51-14eea1ec6a88"
      },
      "source": [
        "P = str(input(\"Qual o prato do dia ? \")) #Função pronta-Input()\n",
        "\n",
        "if P == \"Vegetariano\":\n",
        "  P = + 180\n",
        "elif P == \"Peixe\":\n",
        "  P = + 230\n",
        "elif P == \"Frango\":\n",
        "  P = + 250\n",
        "else :\n",
        "  P = + 350\n",
        "\n",
        "S = str(input(\"Qual a sobremesa do dia ? \")) #Função pronta-Input()\n",
        "\n",
        "if S == \"Abacaxi\":\n",
        "  S = + 75\n",
        "elif S == \"Sorvete diet\":\n",
        "  S = + 110\n",
        "elif S == \"Mouse diet\":\n",
        "  S = + 170\n",
        "else :\n",
        "  S = + 200\n",
        "\n",
        "B = str(input(\"Qual a bebida do dia ? \")) #Função pronta-Input()\n",
        "\n",
        "if B == \"Chá\":\n",
        "  B = + 20\n",
        "elif B == \"Suco de laranja\":\n",
        "  B = + 70\n",
        "elif B == \"Suco de melão\":\n",
        "  B = + 100\n",
        "else :\n",
        "  B = + 65\n",
        "\n",
        "TotalCalorias = P + S + B\n",
        "print(\"Seu total de calorias consumidas no dia foi de {}.\".format(TotalCalorias)) #Função pronta-Print()"
      ],
      "execution_count": 56,
      "outputs": [
        {
          "output_type": "stream",
          "name": "stdout",
          "text": [
            "Qual o prato do dia ? Frango\n",
            "Qual a sobremesa do dia ? Abacaxi\n",
            "Qual a bebida do dia ? Chá\n",
            "Seu total de calorias consumidas no dia foi de 0.\n"
          ]
        }
      ]
    },
    {
      "cell_type": "markdown",
      "metadata": {
        "id": "LsRCC9SFl1k7"
      },
      "source": [
        "2. Crie uma função que receba três números (num1, num2, num2) e ordene em ordem\n",
        "decrescente: (3,2,1...)."
      ]
    },
    {
      "cell_type": "code",
      "metadata": {
        "id": "Z5yNg-t9l8V1"
      },
      "source": [
        "def recebendo(num1,num2,num3):\n",
        "  if num1 > num2 > num3:\n",
        "    print(\"{}, {}, {}\". format(num1,num2,num3))\n",
        "\n",
        "  elif num1 > num3 > num2:\n",
        "    print(\"{}, {}, {}\". format(num1,num3,num2))\n",
        "\n",
        "  elif num1 < num2 < num3:\n",
        "    print(\"{}, {}, {}\". format(num3,num2,num1))\n",
        "\n",
        "  elif num1 < num3 < num2:\n",
        "    print(\"{},{},{}\". format(num2,num3,num1))\n",
        "\n",
        "  elif num2 > num1 > num3:\n",
        "    print(\"{},{},{}\". format(num2,num1,num3))\n",
        "\n",
        "  else :\n",
        "    print(\"{}, {}, {}\". format(num3,num1,num2))"
      ],
      "execution_count": 73,
      "outputs": []
    },
    {
      "cell_type": "code",
      "metadata": {
        "colab": {
          "base_uri": "https://localhost:8080/"
        },
        "id": "HPhO2WEc9oDv",
        "outputId": "2b0b1ae9-9d18-4808-d48e-e419c9777289"
      },
      "source": [
        "recebendo(38,98,20)"
      ],
      "execution_count": 58,
      "outputs": [
        {
          "output_type": "stream",
          "name": "stdout",
          "text": [
            "98,38,20\n"
          ]
        }
      ]
    },
    {
      "cell_type": "markdown",
      "metadata": {
        "id": "XNNQqCccnR8A"
      },
      "source": [
        "3. Faça uma função que retorne o reverso de um número inteiro informado:"
      ]
    },
    {
      "cell_type": "code",
      "metadata": {
        "colab": {
          "base_uri": "https://localhost:8080/"
        },
        "id": "n1p6F5TlnVHb",
        "outputId": "14a29b89-0492-4d22-f9f9-3a2fe171d50a"
      },
      "source": [
        "num = input(\"Digite um número: \")\n",
        "\n",
        "num_r = reversed(num)\n",
        "\n",
        "for x in num_r:\n",
        "  print(x)"
      ],
      "execution_count": 23,
      "outputs": [
        {
          "output_type": "stream",
          "name": "stdout",
          "text": [
            "Digite um número: 389\n",
            "9\n",
            "8\n",
            "3\n"
          ]
        }
      ]
    },
    {
      "cell_type": "markdown",
      "metadata": {
        "id": "HSInlPlgnxt8"
      },
      "source": [
        "4. Qual a saída dessa função?  **----- NÃO ENTENDI-----**"
      ]
    },
    {
      "cell_type": "code",
      "metadata": {
        "colab": {
          "base_uri": "https://localhost:8080/"
        },
        "id": "eq8C7vlun5sk",
        "outputId": "8205bd71-6518-4a96-dd8b-0f27fe4cbc6c"
      },
      "source": [
        "def f4(a):\n",
        "  global c\n",
        "  c = 10\n",
        "  print(\"c de f4:\", c)\n",
        "  print(a+x+c)\n",
        "\n",
        "x= 4\n",
        "c = -1\n",
        "f4(1)\n",
        "print(\"c global:\", c)"
      ],
      "execution_count": 24,
      "outputs": [
        {
          "output_type": "stream",
          "name": "stdout",
          "text": [
            "c de f4: 10\n",
            "15\n",
            "c global: 10\n"
          ]
        }
      ]
    },
    {
      "cell_type": "markdown",
      "metadata": {
        "id": "IJbXF9Bdp7I4"
      },
      "source": [
        ""
      ]
    },
    {
      "cell_type": "markdown",
      "metadata": {
        "id": "-djBAJ-ZqA2w"
      },
      "source": [
        "5. Escreva uma função que, dado um número real passado como parâmetro, retorne a\n",
        "parte inteira e a parte fracionária desse número por referência."
      ]
    },
    {
      "cell_type": "code",
      "metadata": {
        "colab": {
          "base_uri": "https://localhost:8080/"
        },
        "id": "CBybrQhzquWY",
        "outputId": "fee5330b-e524-49ee-ae44-6fcc82e25f74"
      },
      "source": [
        "num = float(input(\"Informe um número: \"))\n",
        "print(\"O valor inteiro do número digitado é {} já o número fracionário dele é {}.\".format(int(num), float(num)-int(num)))"
      ],
      "execution_count": 71,
      "outputs": [
        {
          "output_type": "stream",
          "name": "stdout",
          "text": [
            "Informe um número: 123.5\n",
            "O valor inteiro do número digitado é 123 já o número fracionário dele é 0.5.\n"
          ]
        }
      ]
    },
    {
      "cell_type": "markdown",
      "metadata": {
        "id": "vni9Kxa0wnQm"
      },
      "source": [
        "6. Escreva uma função que receba 3 notas de um aluno e uma letra (A ou B). Se a\n",
        "letra for A, então retorne sua média ponderada , (pesos 2,3,4), se for B, retorne a\n",
        "média aritmética entre as notas."
      ]
    },
    {
      "cell_type": "code",
      "metadata": {
        "colab": {
          "base_uri": "https://localhost:8080/"
        },
        "id": "Vplfm6XZwral",
        "outputId": "e7352dea-34b0-4aff-fc9d-1a60fa534311"
      },
      "source": [
        "n1 = float(input(\"Nota 1: \"))\n",
        "n2 = float(input(\"Nota 2: \"))\n",
        "n3 = float(input(\"Nota 3: \"))\n",
        "EL = input(\"Escolha entre A e B: \")\n",
        "\n",
        "if EL == \"A\":\n",
        "  print(((n1 * 2) + (n2 * 3) + (n3 * 4))/9)\n",
        "elif EL == \"B\":\n",
        "  print((n1+n2+n3)/3)\n",
        "else:\n",
        "  print(\"[ERRO] Digite uma opção válida\")"
      ],
      "execution_count": 64,
      "outputs": [
        {
          "output_type": "stream",
          "name": "stdout",
          "text": [
            "Nota 1: 3.4\n",
            "Nota 2: 9.9\n",
            "Nota 3: 10.0\n",
            "Escolha entre A e B: B\n",
            "7.766666666666667\n"
          ]
        }
      ]
    },
    {
      "cell_type": "markdown",
      "metadata": {
        "id": "l3uR9oblwtv1"
      },
      "source": [
        "7. Crie uma função denominada calculadora(). Essa função, receberá como entrada,\n",
        "dois números. O usuário poderá realizar as seguintes operações: Adição, subtração,multiplicação e divisão. \n",
        "Para tanto, o usuário deverá escolher a operação\n",
        "a ser realizada."
      ]
    },
    {
      "cell_type": "code",
      "metadata": {
        "id": "LipeND6bw5_k"
      },
      "source": [
        "def calculadora(n1, n2, calculo):\n",
        "  if calculo == \"Adição\":\n",
        "    print(n1 + n2)\n",
        "  elif calculo == \"Subtração\":\n",
        "    print(n2 - n1)\n",
        "  elif calculo == \"Multiplicação\":\n",
        "    print(n1 * n2)\n",
        "  elif calculo == \"Divisão\":\n",
        "    print(n1 / n2)\n",
        "  else :\n",
        "    print(\"[ERRO] Insira uma operação válida!\")"
      ],
      "execution_count": 60,
      "outputs": []
    },
    {
      "cell_type": "code",
      "metadata": {
        "colab": {
          "base_uri": "https://localhost:8080/"
        },
        "id": "6qdcKbmf3u1J",
        "outputId": "017d3af9-ab6d-4020-944d-dbecf8984a33"
      },
      "source": [
        "calculadora(34, 30, \"Adição\")"
      ],
      "execution_count": 61,
      "outputs": [
        {
          "output_type": "stream",
          "name": "stdout",
          "text": [
            "64\n"
          ]
        }
      ]
    }
  ]
}